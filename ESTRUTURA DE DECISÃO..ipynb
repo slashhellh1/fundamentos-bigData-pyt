{
 "cells": [
  {
   "cell_type": "markdown",
   "id": "7a7a2b7d",
   "metadata": {},
   "source": [
    "# ESTRUTURA DE DECISÃO."
   ]
  },
  {
   "cell_type": "markdown",
   "id": "a5222659",
   "metadata": {},
   "source": [
    "# Exercício 01\n",
    "Crie uma variável chamada \"idade\" e atribua um valor inteiro a ela.\n",
    "Verifique se a idade é maior ou igual a 18 e imprima \"Maior de idade\" ou \"Menor de\n",
    "idade\" de acordo com a condição."
   ]
  },
  {
   "cell_type": "code",
   "execution_count": null,
   "id": "acb3882a",
   "metadata": {},
   "outputs": [],
   "source": [
    "idade = int(input('Digite sua idade:'))\n",
    "\n",
    "if idade >= 18:\n",
    "    print('Maior de Idade')\n",
    "else:\n",
    "    print('Menor de Idade')\n"
   ]
  },
  {
   "cell_type": "markdown",
   "id": "9b4ef613",
   "metadata": {},
   "source": [
    "# Exercício 02\n",
    "Crie uma variável chamada \"número\" e atribua um valor inteiro a ela.\n",
    "Verifique se o número é positivo, negativo ou zero e imprima a mensagem\n",
    "correspondente."
   ]
  },
  {
   "cell_type": "code",
   "execution_count": null,
   "id": "f3600775",
   "metadata": {},
   "outputs": [],
   "source": [
    "numero = int(input('Digite um número:'))\n",
    "\n",
    "if numero >= 1 :\n",
    "    print ('Numero Positivo')\n",
    "elif numero == 0 :\n",
    "        print ('Zero')\n",
    "else:\n",
    "    print('Numero Negativo')"
   ]
  },
  {
   "cell_type": "code",
   "execution_count": null,
   "id": "7e28ffc3",
   "metadata": {},
   "outputs": [],
   "source": []
  },
  {
   "cell_type": "markdown",
   "id": "79d4a048",
   "metadata": {},
   "source": [
    "# Exercício 03\n",
    "Crie duas variáveis, \"nota1\" e \"nota2\", e atribua valores numéricos a elas.\n",
    "Verifique se a média das notas é maior ou igual a 7 e imprima \"Aprovado\" ou\n",
    "\"Reprovado\" de acordo com a condição."
   ]
  },
  {
   "cell_type": "code",
   "execution_count": null,
   "id": "905b923c",
   "metadata": {},
   "outputs": [],
   "source": [
    "nota1 = float(input('Insira a Primeira nota:'))\n",
    "nota2 = float(input('Insira a Segunda nota:'))\n",
    "media = (nota1 + nota2) / 2\n",
    "\n",
    "print ('Sua Média Final foi:',media)\n",
    "\n",
    "if media >= 7 :\n",
    "    print('Aluno Aprovado')\n",
    "elif media >= 5 :\n",
    "    print('Aluno Recuperação')\n",
    "else:\n",
    "    print('Aluno Reprovado')"
   ]
  },
  {
   "cell_type": "markdown",
   "id": "e42f584e",
   "metadata": {},
   "source": [
    "# Exercício 04\n",
    "Crie uma variável chamada \"idade\" e atribua um valor inteiro a ela.\n",
    "Verifique se a idade está dentro do intervalo de 18 a 30 (inclusive) e imprima a\n",
    "mensagem \"Idade válida\" ou \"Idade inválida\" de acordo com a condição."
   ]
  },
  {
   "cell_type": "code",
   "execution_count": null,
   "id": "7c51ce00",
   "metadata": {},
   "outputs": [],
   "source": [
    "idade = int(input('Insira a sua Idade:'))\n",
    "\n",
    "if idade >= 18 and idade <= 30:\n",
    "    print('Idade Válida')\n",
    "else:\n",
    "    print('Idade Inválida')\n",
    "    "
   ]
  },
  {
   "cell_type": "markdown",
   "id": "180b1505",
   "metadata": {},
   "source": [
    "# Exercício 05\n",
    "Crie uma variável chamada \"numero\" e atribua um valor inteiro a ela.\n",
    "Verifique se o número é par ou ímpar e imprima a mensagem correspondente."
   ]
  },
  {
   "cell_type": "code",
   "execution_count": null,
   "id": "ca1bea1f",
   "metadata": {},
   "outputs": [],
   "source": [
    "numero = float(input('Digite um número:'))\n",
    "\n",
    "if numero % 2 == 0 :\n",
    "    print('Par')\n",
    "else:\n",
    "    print('impar')"
   ]
  },
  {
   "cell_type": "code",
   "execution_count": null,
   "id": "54c504d8",
   "metadata": {},
   "outputs": [],
   "source": [
    "numero = float(input('Digite um número:'))\n",
    "resultado  = numero % 2\n",
    "\n",
    "if resultado == 0:\n",
    "    print('Nùmero {} é Par'.format(numero))\n",
    "else:\n",
    "    print('Nùmero {} é Impar'.format(numero))"
   ]
  },
  {
   "cell_type": "markdown",
   "id": "c9b0e3a8",
   "metadata": {},
   "source": [
    "# Exercício 06 \n",
    "Crie uma variável chamada \"horario\" e atribua um valor inteiro\n",
    "representando a hora do dia (em formato 24 horas). Verifique se o horário está dentro\n",
    "do período da manhã (das 6h às 12h), da tarde (das 12h às 18h) ou da noite (das 18h\n",
    "às 23h) e imprima a mensagem correspondente."
   ]
  },
  {
   "cell_type": "code",
   "execution_count": null,
   "id": "959ee744",
   "metadata": {},
   "outputs": [],
   "source": [
    "horario = float(input('Digite a Hora em formato 24 horas:'))\n",
    "\n",
    "if horario >= 12 and horario <=17 :\n",
    "    print ('Horario da Tarde')\n",
    "elif horario >= 18 and horario <=24 or horario == 0:\n",
    "    print ('Horario da Noite')\n",
    "elif horario >= 25 or horario <0:\n",
    "    print('Horário Inválido')\n",
    "else:\n",
    "    print('Horario da Manhã')\n"
   ]
  },
  {
   "cell_type": "markdown",
   "id": "de235d9c",
   "metadata": {},
   "source": [
    "# Exercício 07\n",
    "Crie uma variável chamada \"peso\" e atribua um valor numérico a ela.\n",
    "Verifique se o peso está dentro do intervalo de 50 a 100 (inclusive) e imprima a\n",
    "mensagem \"Peso válido\" ou \"Peso inválido\" de acordo com a condição."
   ]
  },
  {
   "cell_type": "code",
   "execution_count": null,
   "id": "487cb464",
   "metadata": {},
   "outputs": [],
   "source": [
    "peso = float(input('Insira seu peso:'))\n",
    "\n",
    "if peso >= 50 and peso <= 100:\n",
    "    print('Peso Válido')\n",
    "else:\n",
    "    print('Peso Inválido')\n",
    "    \n",
    "    "
   ]
  },
  {
   "cell_type": "markdown",
   "id": "a3b18364",
   "metadata": {},
   "source": [
    "# Exercício 08\n",
    "Crie uma variável chamada \"numero\" e atribua um valor inteiro a ela.\n",
    "Verifique se o número é múltiplo de 3 e de 5 ao mesmo tempo e imprima a mensagem\n",
    "correspondente."
   ]
  },
  {
   "cell_type": "code",
   "execution_count": null,
   "id": "9c01cb25",
   "metadata": {},
   "outputs": [],
   "source": [
    "numero = int(input('Digite um número:'))\n",
    "\n",
    "\n",
    "if numero % 3 == 0 and numero % 5 == 0:\n",
    "    print('Esse número é multiplo de 3 e 5')\n",
    "\n",
    "else:\n",
    "    print('Esse número não é multiplo de 3 e 5')\n",
    "\n"
   ]
  },
  {
   "cell_type": "markdown",
   "id": "c9a46101",
   "metadata": {},
   "source": [
    "# Exercício 09\n",
    "Crie uma variável chamada \"ano\" e atribua um valor inteiro\n",
    "representando um ano. Verifique se o ano é bissexto (divisível por 4, mas não por 100,\n",
    "exceto se for divisível por 400) e imprima a mensagem correspondente."
   ]
  },
  {
   "cell_type": "code",
   "execution_count": null,
   "id": "9d3fe393",
   "metadata": {},
   "outputs": [],
   "source": [
    "ano = int(input('Digite um número:'))\n",
    "\n",
    "if ano % 4 == 0 and ano % 400"
   ]
  },
  {
   "cell_type": "markdown",
   "id": "8708a3a6",
   "metadata": {},
   "source": [
    "# Exercício 10\n",
    "Crie uma variável chamada \"salario\" e atribua um valor numérico a ela.\n",
    "Verifique se o salário é maior do que 1000 e menor do que 2000 ao mesmo tempo e\n",
    "imprima a mensagem correspondente."
   ]
  },
  {
   "cell_type": "code",
   "execution_count": null,
   "id": "fc2626aa",
   "metadata": {},
   "outputs": [],
   "source": [
    "salario = float(input(''))"
   ]
  },
  {
   "cell_type": "markdown",
   "id": "92baec66",
   "metadata": {},
   "source": [
    "# Exercício 11\n",
    "Faça um Programa que peça dois números e imprima o maior deles."
   ]
  },
  {
   "cell_type": "code",
   "execution_count": null,
   "id": "657d9d88",
   "metadata": {},
   "outputs": [],
   "source": [
    "num1 = int(input('Digite um número:'))\n",
    "num2 = int(input('Digite um número:'))\n",
    "\n",
    "if num1 > num2:\n",
    "    print(f'O maior valor é {num1} e o menor é {num2}.')\n",
    "else:\n",
    "    print(f'O maior valor é {num2} e o menor é {num1}.')\n"
   ]
  },
  {
   "cell_type": "markdown",
   "id": "c5e3d8bb",
   "metadata": {},
   "source": [
    "# Exercício 12\n",
    "Faça um Programa que peça um valor e mostre na tela se o valor é\n",
    "positivo ou negativo."
   ]
  },
  {
   "cell_type": "code",
   "execution_count": null,
   "id": "7b821cd3",
   "metadata": {},
   "outputs": [],
   "source": [
    "num = int(input('Digite um número:'))"
   ]
  },
  {
   "cell_type": "markdown",
   "id": "0056e33f",
   "metadata": {},
   "source": [
    "# Exercício 13\n",
    "Faça um Programa que verifique se uma letra digitada é \"F\" ou \"M\".\n",
    "Conforme a letra escrever: F - Feminino, M - Masculino, Sexo Inválido."
   ]
  },
  {
   "cell_type": "code",
   "execution_count": null,
   "id": "1d59c848",
   "metadata": {},
   "outputs": [],
   "source": []
  },
  {
   "cell_type": "markdown",
   "id": "435a583e",
   "metadata": {},
   "source": [
    "# Exercício 14\n",
    "Faça um Programa que verifique se uma letra digitada é vogal ou\n",
    "consoante."
   ]
  },
  {
   "cell_type": "code",
   "execution_count": null,
   "id": "dd503226",
   "metadata": {},
   "outputs": [],
   "source": []
  },
  {
   "cell_type": "markdown",
   "id": "f62b5cc7",
   "metadata": {},
   "source": [
    "# Exercício 15\n",
    "Faça um programa para a leitura de duas notas parciais de um aluno. O\n",
    "programa deve calcular a média alcançada por aluno e apresentar:\n",
    "\n",
    "• A mensagem \"Aprovado\", se a média alcançada for maior ou igual a sete;\n",
    "\n",
    "• A mensagem \"Reprovado\", se a média for menor do que sete;\n",
    "\n",
    "• A mensagem \"Aprovado com Distinção\", se a média for igual a dez."
   ]
  },
  {
   "cell_type": "code",
   "execution_count": null,
   "id": "c8f73517",
   "metadata": {},
   "outputs": [],
   "source": []
  },
  {
   "cell_type": "markdown",
   "id": "7192b0a3",
   "metadata": {},
   "source": [
    "# Exercício 16 \n",
    "Faça um Programa que leia três números e mostre o maior deles."
   ]
  },
  {
   "cell_type": "code",
   "execution_count": 6,
   "id": "a8592e19",
   "metadata": {},
   "outputs": [
    {
     "name": "stdout",
     "output_type": "stream",
     "text": [
      "Digite um número:20\n",
      "Digite um número:30\n",
      "Digite um número:40\n",
      "O maior valor é 30.0 e o menor é 20.0 e 40.0.\n"
     ]
    }
   ],
   "source": [
    "num1 = float(input('Digite um número:'))\n",
    "num2 = float(input('Digite um número:'))\n",
    "num3 = float(input('Digite um número:'))\n",
    "\n",
    "if num1 > num2 and num3:\n",
    "    print(f'O maior valor é {num1} e o menor é {num2} e {num3}.')\n",
    "elif num2 > num1 and num3:\n",
    "    print(f'O maior valor é {num2} e o menor é {num1} e {num3}.')\n",
    "elif num3 > num1 and num2:\n",
    "    print(f'O maior valor é {num3} e o menor é {num1} e {num2}.')"
   ]
  }
 ],
 "metadata": {
  "kernelspec": {
   "display_name": "Python 3 (ipykernel)",
   "language": "python",
   "name": "python3"
  },
  "language_info": {
   "codemirror_mode": {
    "name": "ipython",
    "version": 3
   },
   "file_extension": ".py",
   "mimetype": "text/x-python",
   "name": "python",
   "nbconvert_exporter": "python",
   "pygments_lexer": "ipython3",
   "version": "3.10.9"
  }
 },
 "nbformat": 4,
 "nbformat_minor": 5
}
